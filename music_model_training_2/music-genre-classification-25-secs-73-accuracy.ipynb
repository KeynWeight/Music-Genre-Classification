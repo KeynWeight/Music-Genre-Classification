{
  "nbformat": 4,
  "nbformat_minor": 0,
  "metadata": {
    "colab": {
      "name": "Music_analysis.ipynb",
      "provenance": [],
      "collapsed_sections": []
    },
    "kernelspec": {
      "name": "python3",
      "display_name": "Python 3"
    },
    "language_info": {
      "name": "python"
    },
    "accelerator": "GPU",
    "widgets": {
      "application/vnd.jupyter.widget-state+json": {
        "d67b3c850089459888ec0a8632e04113": {
          "model_module": "@jupyter-widgets/controls",
          "model_name": "HBoxModel",
          "model_module_version": "1.5.0",
          "state": {
            "_dom_classes": [],
            "_model_module": "@jupyter-widgets/controls",
            "_model_module_version": "1.5.0",
            "_model_name": "HBoxModel",
            "_view_count": null,
            "_view_module": "@jupyter-widgets/controls",
            "_view_module_version": "1.5.0",
            "_view_name": "HBoxView",
            "box_style": "",
            "children": [
              "IPY_MODEL_80b0ce160553488da572705ed28539a5",
              "IPY_MODEL_70f54d1674914595bdce5cdd6f03f0bb",
              "IPY_MODEL_a62beb5782c34d83aa9d65d4be115901"
            ],
            "layout": "IPY_MODEL_ca4522aae4a24c758b0370478aa56fee"
          }
        },
        "80b0ce160553488da572705ed28539a5": {
          "model_module": "@jupyter-widgets/controls",
          "model_name": "HTMLModel",
          "model_module_version": "1.5.0",
          "state": {
            "_dom_classes": [],
            "_model_module": "@jupyter-widgets/controls",
            "_model_module_version": "1.5.0",
            "_model_name": "HTMLModel",
            "_view_count": null,
            "_view_module": "@jupyter-widgets/controls",
            "_view_module_version": "1.5.0",
            "_view_name": "HTMLView",
            "description": "",
            "description_tooltip": null,
            "layout": "IPY_MODEL_7a430cf602d442c2ab3e5d5857033984",
            "placeholder": "​",
            "style": "IPY_MODEL_47e63ad817534be091fdad0e19bdf508",
            "value": "100%"
          }
        },
        "70f54d1674914595bdce5cdd6f03f0bb": {
          "model_module": "@jupyter-widgets/controls",
          "model_name": "FloatProgressModel",
          "model_module_version": "1.5.0",
          "state": {
            "_dom_classes": [],
            "_model_module": "@jupyter-widgets/controls",
            "_model_module_version": "1.5.0",
            "_model_name": "FloatProgressModel",
            "_view_count": null,
            "_view_module": "@jupyter-widgets/controls",
            "_view_module_version": "1.5.0",
            "_view_name": "ProgressView",
            "bar_style": "success",
            "description": "",
            "description_tooltip": null,
            "layout": "IPY_MODEL_60e3b6049291474ba2106b4ee64ff077",
            "max": 46827520,
            "min": 0,
            "orientation": "horizontal",
            "style": "IPY_MODEL_d412442bd0e64de281f0877ffc28ae8c",
            "value": 46827520
          }
        },
        "a62beb5782c34d83aa9d65d4be115901": {
          "model_module": "@jupyter-widgets/controls",
          "model_name": "HTMLModel",
          "model_module_version": "1.5.0",
          "state": {
            "_dom_classes": [],
            "_model_module": "@jupyter-widgets/controls",
            "_model_module_version": "1.5.0",
            "_model_name": "HTMLModel",
            "_view_count": null,
            "_view_module": "@jupyter-widgets/controls",
            "_view_module_version": "1.5.0",
            "_view_name": "HTMLView",
            "description": "",
            "description_tooltip": null,
            "layout": "IPY_MODEL_305fefdddcad4486b4b0b1fb343bc183",
            "placeholder": "​",
            "style": "IPY_MODEL_c88fc6d856a747cd92f21ddfdbcfb796",
            "value": " 44.7M/44.7M [00:00&lt;00:00, 128MB/s]"
          }
        },
        "ca4522aae4a24c758b0370478aa56fee": {
          "model_module": "@jupyter-widgets/base",
          "model_name": "LayoutModel",
          "model_module_version": "1.2.0",
          "state": {
            "_model_module": "@jupyter-widgets/base",
            "_model_module_version": "1.2.0",
            "_model_name": "LayoutModel",
            "_view_count": null,
            "_view_module": "@jupyter-widgets/base",
            "_view_module_version": "1.2.0",
            "_view_name": "LayoutView",
            "align_content": null,
            "align_items": null,
            "align_self": null,
            "border": null,
            "bottom": null,
            "display": null,
            "flex": null,
            "flex_flow": null,
            "grid_area": null,
            "grid_auto_columns": null,
            "grid_auto_flow": null,
            "grid_auto_rows": null,
            "grid_column": null,
            "grid_gap": null,
            "grid_row": null,
            "grid_template_areas": null,
            "grid_template_columns": null,
            "grid_template_rows": null,
            "height": null,
            "justify_content": null,
            "justify_items": null,
            "left": null,
            "margin": null,
            "max_height": null,
            "max_width": null,
            "min_height": null,
            "min_width": null,
            "object_fit": null,
            "object_position": null,
            "order": null,
            "overflow": null,
            "overflow_x": null,
            "overflow_y": null,
            "padding": null,
            "right": null,
            "top": null,
            "visibility": null,
            "width": null
          }
        },
        "7a430cf602d442c2ab3e5d5857033984": {
          "model_module": "@jupyter-widgets/base",
          "model_name": "LayoutModel",
          "model_module_version": "1.2.0",
          "state": {
            "_model_module": "@jupyter-widgets/base",
            "_model_module_version": "1.2.0",
            "_model_name": "LayoutModel",
            "_view_count": null,
            "_view_module": "@jupyter-widgets/base",
            "_view_module_version": "1.2.0",
            "_view_name": "LayoutView",
            "align_content": null,
            "align_items": null,
            "align_self": null,
            "border": null,
            "bottom": null,
            "display": null,
            "flex": null,
            "flex_flow": null,
            "grid_area": null,
            "grid_auto_columns": null,
            "grid_auto_flow": null,
            "grid_auto_rows": null,
            "grid_column": null,
            "grid_gap": null,
            "grid_row": null,
            "grid_template_areas": null,
            "grid_template_columns": null,
            "grid_template_rows": null,
            "height": null,
            "justify_content": null,
            "justify_items": null,
            "left": null,
            "margin": null,
            "max_height": null,
            "max_width": null,
            "min_height": null,
            "min_width": null,
            "object_fit": null,
            "object_position": null,
            "order": null,
            "overflow": null,
            "overflow_x": null,
            "overflow_y": null,
            "padding": null,
            "right": null,
            "top": null,
            "visibility": null,
            "width": null
          }
        },
        "47e63ad817534be091fdad0e19bdf508": {
          "model_module": "@jupyter-widgets/controls",
          "model_name": "DescriptionStyleModel",
          "model_module_version": "1.5.0",
          "state": {
            "_model_module": "@jupyter-widgets/controls",
            "_model_module_version": "1.5.0",
            "_model_name": "DescriptionStyleModel",
            "_view_count": null,
            "_view_module": "@jupyter-widgets/base",
            "_view_module_version": "1.2.0",
            "_view_name": "StyleView",
            "description_width": ""
          }
        },
        "60e3b6049291474ba2106b4ee64ff077": {
          "model_module": "@jupyter-widgets/base",
          "model_name": "LayoutModel",
          "model_module_version": "1.2.0",
          "state": {
            "_model_module": "@jupyter-widgets/base",
            "_model_module_version": "1.2.0",
            "_model_name": "LayoutModel",
            "_view_count": null,
            "_view_module": "@jupyter-widgets/base",
            "_view_module_version": "1.2.0",
            "_view_name": "LayoutView",
            "align_content": null,
            "align_items": null,
            "align_self": null,
            "border": null,
            "bottom": null,
            "display": null,
            "flex": null,
            "flex_flow": null,
            "grid_area": null,
            "grid_auto_columns": null,
            "grid_auto_flow": null,
            "grid_auto_rows": null,
            "grid_column": null,
            "grid_gap": null,
            "grid_row": null,
            "grid_template_areas": null,
            "grid_template_columns": null,
            "grid_template_rows": null,
            "height": null,
            "justify_content": null,
            "justify_items": null,
            "left": null,
            "margin": null,
            "max_height": null,
            "max_width": null,
            "min_height": null,
            "min_width": null,
            "object_fit": null,
            "object_position": null,
            "order": null,
            "overflow": null,
            "overflow_x": null,
            "overflow_y": null,
            "padding": null,
            "right": null,
            "top": null,
            "visibility": null,
            "width": null
          }
        },
        "d412442bd0e64de281f0877ffc28ae8c": {
          "model_module": "@jupyter-widgets/controls",
          "model_name": "ProgressStyleModel",
          "model_module_version": "1.5.0",
          "state": {
            "_model_module": "@jupyter-widgets/controls",
            "_model_module_version": "1.5.0",
            "_model_name": "ProgressStyleModel",
            "_view_count": null,
            "_view_module": "@jupyter-widgets/base",
            "_view_module_version": "1.2.0",
            "_view_name": "StyleView",
            "bar_color": null,
            "description_width": ""
          }
        },
        "305fefdddcad4486b4b0b1fb343bc183": {
          "model_module": "@jupyter-widgets/base",
          "model_name": "LayoutModel",
          "model_module_version": "1.2.0",
          "state": {
            "_model_module": "@jupyter-widgets/base",
            "_model_module_version": "1.2.0",
            "_model_name": "LayoutModel",
            "_view_count": null,
            "_view_module": "@jupyter-widgets/base",
            "_view_module_version": "1.2.0",
            "_view_name": "LayoutView",
            "align_content": null,
            "align_items": null,
            "align_self": null,
            "border": null,
            "bottom": null,
            "display": null,
            "flex": null,
            "flex_flow": null,
            "grid_area": null,
            "grid_auto_columns": null,
            "grid_auto_flow": null,
            "grid_auto_rows": null,
            "grid_column": null,
            "grid_gap": null,
            "grid_row": null,
            "grid_template_areas": null,
            "grid_template_columns": null,
            "grid_template_rows": null,
            "height": null,
            "justify_content": null,
            "justify_items": null,
            "left": null,
            "margin": null,
            "max_height": null,
            "max_width": null,
            "min_height": null,
            "min_width": null,
            "object_fit": null,
            "object_position": null,
            "order": null,
            "overflow": null,
            "overflow_x": null,
            "overflow_y": null,
            "padding": null,
            "right": null,
            "top": null,
            "visibility": null,
            "width": null
          }
        },
        "c88fc6d856a747cd92f21ddfdbcfb796": {
          "model_module": "@jupyter-widgets/controls",
          "model_name": "DescriptionStyleModel",
          "model_module_version": "1.5.0",
          "state": {
            "_model_module": "@jupyter-widgets/controls",
            "_model_module_version": "1.5.0",
            "_model_name": "DescriptionStyleModel",
            "_view_count": null,
            "_view_module": "@jupyter-widgets/base",
            "_view_module_version": "1.2.0",
            "_view_name": "StyleView",
            "description_width": ""
          }
        }
      }
    }
  },
  "cells": [
    {
      "cell_type": "markdown",
      "source": [
        "# Music genre analysis\n",
        "This notebook is the training of a model to classify the song genre. We use the dataset from FMA. Please refer to https://github.com/mdeff/fma\n",
        "to download the dataset and for further instructions.\n",
        "\n",
        "In this notebook, we'll use fastai for training."
      ],
      "metadata": {
        "id": "ID733YuZXmsP"
      }
    },
    {
      "cell_type": "markdown",
      "source": [
        "Install neccesary libraries"
      ],
      "metadata": {
        "id": "4EYY9s1IZbhQ"
      }
    },
    {
      "cell_type": "code",
      "source": [
        "!pip install python-dotenv\n",
        "!pip install pydot\n",
        "!pip install fastaudio"
      ],
      "metadata": {
        "id": "kLDseEaF3xPH"
      },
      "execution_count": null,
      "outputs": []
    },
    {
      "cell_type": "markdown",
      "source": [
        "# 1. Preparing Dataset\n",
        "First we'll git clone the repository, download the dataset and unzip it. We will download the medium dataset for training"
      ],
      "metadata": {
        "id": "JN1-M67i2URx"
      }
    },
    {
      "cell_type": "code",
      "execution_count": 1,
      "metadata": {
        "id": "hPbLaSXz1kus",
        "colab": {
          "base_uri": "https://localhost:8080/"
        },
        "outputId": "4ad3844f-73f1-4d23-84d7-cde7a7d28728"
      },
      "outputs": [
        {
          "output_type": "stream",
          "name": "stdout",
          "text": [
            "Cloning into 'fma'...\n",
            "remote: Enumerating objects: 823, done.\u001b[K\n",
            "remote: Counting objects: 100% (15/15), done.\u001b[K\n",
            "remote: Compressing objects: 100% (11/11), done.\u001b[K\n",
            "remote: Total 823 (delta 6), reused 12 (delta 4), pack-reused 808\u001b[K\n",
            "Receiving objects: 100% (823/823), 4.08 MiB | 7.14 MiB/s, done.\n",
            "Resolving deltas: 100% (528/528), done.\n"
          ]
        }
      ],
      "source": [
        "!git clone https://github.com/mdeff/fma.git\n",
        "!cd fma"
      ]
    },
    {
      "cell_type": "markdown",
      "source": [
        "The following block is to download the dataset, unzip and save to my personal google drive. Please refer to https://github.com/mdeff/fma for more info"
      ],
      "metadata": {
        "id": "NmcaS6HgsLRF"
      }
    },
    {
      "cell_type": "code",
      "source": [
        "!curl -O https://os.unil.cloud.switch.ch/fma/fma_metadata.zip\n",
        "!curl -O https://os.unil.cloud.switch.ch/fma/fma_medium.zip\n",
        "\n",
        "!echo \"f0df49ffe5f2a6008d7dc83c6915b31835dfe733  fma_metadata.zip\" | sha1sum -c -\n",
        "!echo \"c67b69ea232021025fca9231fc1c7c1a063ab50b  fma_medium.zip\"   | sha1sum -c -\n",
        "\n",
        "#unzip the datasets and save to my google drive\n",
        "!7z x fma_metadata.zip -o\"/content/drive/MyDrive/Colab Notebooks/Music_model_2\"\n",
        "!7z x fma_medium.zip -o\"/content/drive/MyDrive/Colab Notebooks/Music_model_2\"\n",
        "\n",
        "!rm -r fma_metadata.zip\n",
        "!rm -r fma_medium.zip"
      ],
      "metadata": {
        "id": "BzlC51Oz2HHw"
      },
      "execution_count": null,
      "outputs": []
    },
    {
      "cell_type": "code",
      "source": [
        "import os\n",
        "import subprocess\n",
        "\n",
        "import numpy as np\n",
        "import pandas as pd\n",
        "from sklearn.preprocessing import LabelEncoder\n",
        "from sklearn.metrics import classification_report, ConfusionMatrixDisplay, accuracy_score\n",
        "\n",
        "import matplotlib.pyplot as plt\n",
        "plt.rcParams[\"figure.figsize\"] = (20,20)\n",
        "\n",
        "import librosa\n",
        "\n",
        "import sys\n",
        "sys.path.insert(1, '/content/fma')\n",
        "import utils\n",
        "\n",
        "from fastai.vision.all import *\n",
        "from fastaudio.core.all import *\n",
        "from fastaudio.augment.all import *\n",
        "from fastaudio.ci import skip_if_ci\n"
      ],
      "metadata": {
        "id": "uwKzZXGU3HRf",
        "colab": {
          "base_uri": "https://localhost:8080/"
        },
        "outputId": "7d28bff9-00aa-43a9-fb11-f17f48bddbb9"
      },
      "execution_count": 1,
      "outputs": [
        {
          "output_type": "stream",
          "name": "stderr",
          "text": [
            "/usr/local/lib/python3.7/dist-packages/torchaudio/backend/utils.py:47: UserWarning: \"torchaudio.USE_SOUNDFILE_LEGACY_INTERFACE\" flag is deprecated and will be removed in 0.9.0. Please remove the use of flag.\n",
            "  '\"torchaudio.USE_SOUNDFILE_LEGACY_INTERFACE\" flag is deprecated and will be removed in 0.9.0. '\n"
          ]
        }
      ]
    },
    {
      "cell_type": "markdown",
      "source": [
        "We'll use the util function provided to load the dataset as stated in the instructions in the repository"
      ],
      "metadata": {
        "id": "N7X5tA2_ZiJG"
      }
    },
    {
      "cell_type": "code",
      "source": [
        "tracks_path = '/content/drive/MyDrive/Colab Notebooks/Music_model_2/fma_metadata/tracks.csv'\n",
        "tracks = utils.load(tracks_path)\n",
        "tracks.shape"
      ],
      "metadata": {
        "id": "SUemANRb6njo",
        "colab": {
          "base_uri": "https://localhost:8080/"
        },
        "outputId": "eb2a1d92-ed2d-45b9-a73d-02051e160a8f"
      },
      "execution_count": 3,
      "outputs": [
        {
          "output_type": "execute_result",
          "data": {
            "text/plain": [
              "(106574, 52)"
            ]
          },
          "metadata": {},
          "execution_count": 3
        }
      ]
    },
    {
      "cell_type": "markdown",
      "source": [
        "We will only select the rows for songs in medium dataset"
      ],
      "metadata": {
        "id": "9Cuwq_xMZsTK"
      }
    },
    {
      "cell_type": "code",
      "source": [
        "df = tracks.copy()\n",
        "df.columns = df.columns.get_level_values(1)\n",
        "medium_df = df[df['subset'] <= 'medium']"
      ],
      "metadata": {
        "id": "DVnCUGEi77xq"
      },
      "execution_count": 4,
      "outputs": []
    },
    {
      "cell_type": "markdown",
      "source": [
        "# 2. Data Cleansing"
      ],
      "metadata": {
        "id": "IWLHWNCcaiVv"
      }
    },
    {
      "cell_type": "markdown",
      "source": [
        "We'll then get all the paths for the songs using the util functions provided, and then put it back in the dataframe."
      ],
      "metadata": {
        "id": "RhWO6vveaDfF"
      }
    },
    {
      "cell_type": "code",
      "source": [
        "index_list = medium_df.index.to_list()\n",
        "path_list = [str(utils.get_audio_path('/content/drive/MyDrive/Colab Notebooks/Music_model_2/fma_medium', x))[0:] for x in index_list]\n",
        "medium_df['path'] = path_list"
      ],
      "metadata": {
        "colab": {
          "base_uri": "https://localhost:8080/"
        },
        "id": "iabBF45I_f4V",
        "outputId": "5b3f723f-e7ab-4006-bafb-a0782d98e80e"
      },
      "execution_count": 5,
      "outputs": [
        {
          "output_type": "stream",
          "name": "stderr",
          "text": [
            "/usr/local/lib/python3.7/dist-packages/ipykernel_launcher.py:3: SettingWithCopyWarning: \n",
            "A value is trying to be set on a copy of a slice from a DataFrame.\n",
            "Try using .loc[row_indexer,col_indexer] = value instead\n",
            "\n",
            "See the caveats in the documentation: https://pandas.pydata.org/pandas-docs/stable/user_guide/indexing.html#returning-a-view-versus-a-copy\n",
            "  This is separate from the ipykernel package so we can avoid doing imports until\n"
          ]
        }
      ]
    },
    {
      "cell_type": "markdown",
      "source": [
        "Here are the error files which have problems in playing, we will exclude those files in the dataframe for further training."
      ],
      "metadata": {
        "id": "YLd39LJOEAH3"
      }
    },
    {
      "cell_type": "code",
      "source": [
        "# These are the audio files which have problems and can't be played\n",
        "error_file = [\n",
        "      '/content/drive/MyDrive/Colab Notebooks/Music_model_2/fma_medium/001/001486.mp3',\n",
        "      '/content/drive/MyDrive/Colab Notebooks/Music_model_2/fma_medium/005/005574.mp3',\n",
        "      '/content/drive/MyDrive/Colab Notebooks/Music_model_2/fma_medium/065/065753.mp3',\n",
        "      '/content/drive/MyDrive/Colab Notebooks/Music_model_2/fma_medium/080/080391.mp3',\n",
        "      '/content/drive/MyDrive/Colab Notebooks/Music_model_2/fma_medium/098/098558.mp3',\n",
        "      '/content/drive/MyDrive/Colab Notebooks/Music_model_2/fma_medium/098/098559.mp3',\n",
        "      '/content/drive/MyDrive/Colab Notebooks/Music_model_2/fma_medium/098/098560.mp3',\n",
        "      '/content/drive/MyDrive/Colab Notebooks/Music_model_2/fma_medium/098/098571.mp3',\n",
        "      '/content/drive/MyDrive/Colab Notebooks/Music_model_2/fma_medium/099/099134.mp3',\n",
        "      '/content/drive/MyDrive/Colab Notebooks/Music_model_2/fma_medium/105/105247.mp3',\n",
        "      '/content/drive/MyDrive/Colab Notebooks/Music_model_2/fma_medium/108/108925.mp3',\n",
        "      '/content/drive/MyDrive/Colab Notebooks/Music_model_2/fma_medium/126/126981.mp3',\n",
        "      '/content/drive/MyDrive/Colab Notebooks/Music_model_2/fma_medium/127/127336.mp3',\n",
        "      '/content/drive/MyDrive/Colab Notebooks/Music_model_2/fma_medium/133/133297.mp3',\n",
        "      '/content/drive/MyDrive/Colab Notebooks/Music_model_2/fma_medium/143/143992.mp3',\n",
        "      ]\n"
      ],
      "metadata": {
        "id": "WOoKm3boAc-Q"
      },
      "execution_count": 6,
      "outputs": []
    },
    {
      "cell_type": "code",
      "source": [
        "medium_df = medium_df[~medium_df['path'].isin(error_file)]"
      ],
      "metadata": {
        "id": "MOzqIZCBCDN9"
      },
      "execution_count": 7,
      "outputs": []
    },
    {
      "cell_type": "markdown",
      "source": [
        "Select only `path` and `genre_top` for metadata, since these are the 2 things we need for training"
      ],
      "metadata": {
        "id": "wBW-fLaNaTsq"
      }
    },
    {
      "cell_type": "code",
      "source": [
        "medium_df = medium_df[['path','genre_top']]\n",
        "medium_df.reset_index(inplace=True)"
      ],
      "metadata": {
        "id": "jfzQJRV0GWG7"
      },
      "execution_count": 8,
      "outputs": []
    },
    {
      "cell_type": "markdown",
      "source": [
        "# 3. Preprocessing\n",
        "\n",
        "We'll now encode the `genre` as target using `LabelEncoder()` from `sklearn`"
      ],
      "metadata": {
        "id": "YuVBRld1aq9d"
      }
    },
    {
      "cell_type": "code",
      "source": [
        "le = LabelEncoder()\n",
        "medium_df['genre'] = le.fit_transform(medium_df['genre_top'])"
      ],
      "metadata": {
        "id": "xWHLSCIYGnaX"
      },
      "execution_count": 9,
      "outputs": []
    },
    {
      "cell_type": "code",
      "source": [
        "# To view the encoded class list\n",
        "class_list = le.classes_\n",
        "class_list"
      ],
      "metadata": {
        "colab": {
          "base_uri": "https://localhost:8080/"
        },
        "id": "39bpNC4TGqHd",
        "outputId": "d8490405-802e-4bcf-df7a-20e658c0f6bb"
      },
      "execution_count": 10,
      "outputs": [
        {
          "output_type": "execute_result",
          "data": {
            "text/plain": [
              "array(['Blues', 'Classical', 'Country', 'Easy Listening', 'Electronic',\n",
              "       'Experimental', 'Folk', 'Hip-Hop', 'Instrumental', 'International',\n",
              "       'Jazz', 'Old-Time / Historic', 'Pop', 'Rock', 'Soul-RnB', 'Spoken'],\n",
              "      dtype=object)"
            ]
          },
          "metadata": {},
          "execution_count": 10
        }
      ]
    },
    {
      "cell_type": "markdown",
      "source": [
        "Let's view the dataframe we obtained before we train the model."
      ],
      "metadata": {
        "id": "nGjWSIb4s2ym"
      }
    },
    {
      "cell_type": "code",
      "source": [
        "medium_df.sample(10)"
      ],
      "metadata": {
        "colab": {
          "base_uri": "https://localhost:8080/",
          "height": 363
        },
        "id": "EtGmnEqXGrVd",
        "outputId": "0e586e37-f680-439b-cb13-bce4927d8090"
      },
      "execution_count": 11,
      "outputs": [
        {
          "output_type": "execute_result",
          "data": {
            "text/plain": [
              "       track_id  \\\n",
              "2191      13563   \n",
              "13730     84538   \n",
              "2674      15964   \n",
              "20518    126625   \n",
              "23020    140005   \n",
              "19085    120314   \n",
              "18086    114374   \n",
              "11989     71878   \n",
              "5403      33220   \n",
              "17780    113165   \n",
              "\n",
              "                                                                                 path  \\\n",
              "2191   /content/drive/MyDrive/Colab Notebooks/Music_model_2/fma_medium/013/013563.mp3   \n",
              "13730  /content/drive/MyDrive/Colab Notebooks/Music_model_2/fma_medium/084/084538.mp3   \n",
              "2674   /content/drive/MyDrive/Colab Notebooks/Music_model_2/fma_medium/015/015964.mp3   \n",
              "20518  /content/drive/MyDrive/Colab Notebooks/Music_model_2/fma_medium/126/126625.mp3   \n",
              "23020  /content/drive/MyDrive/Colab Notebooks/Music_model_2/fma_medium/140/140005.mp3   \n",
              "19085  /content/drive/MyDrive/Colab Notebooks/Music_model_2/fma_medium/120/120314.mp3   \n",
              "18086  /content/drive/MyDrive/Colab Notebooks/Music_model_2/fma_medium/114/114374.mp3   \n",
              "11989  /content/drive/MyDrive/Colab Notebooks/Music_model_2/fma_medium/071/071878.mp3   \n",
              "5403   /content/drive/MyDrive/Colab Notebooks/Music_model_2/fma_medium/033/033220.mp3   \n",
              "17780  /content/drive/MyDrive/Colab Notebooks/Music_model_2/fma_medium/113/113165.mp3   \n",
              "\n",
              "          genre_top  genre  \n",
              "2191           Rock     13  \n",
              "13730  Experimental      5  \n",
              "2674     Electronic      4  \n",
              "20518    Electronic      4  \n",
              "23020    Electronic      4  \n",
              "19085  Instrumental      8  \n",
              "18086  Instrumental      8  \n",
              "11989  Instrumental      8  \n",
              "5403     Electronic      4  \n",
              "17780          Rock     13  "
            ],
            "text/html": [
              "\n",
              "  <div id=\"df-6e7e69a7-17f6-416c-894e-3808a03e1a94\">\n",
              "    <div class=\"colab-df-container\">\n",
              "      <div>\n",
              "<style scoped>\n",
              "    .dataframe tbody tr th:only-of-type {\n",
              "        vertical-align: middle;\n",
              "    }\n",
              "\n",
              "    .dataframe tbody tr th {\n",
              "        vertical-align: top;\n",
              "    }\n",
              "\n",
              "    .dataframe thead th {\n",
              "        text-align: right;\n",
              "    }\n",
              "</style>\n",
              "<table border=\"1\" class=\"dataframe\">\n",
              "  <thead>\n",
              "    <tr style=\"text-align: right;\">\n",
              "      <th></th>\n",
              "      <th>track_id</th>\n",
              "      <th>path</th>\n",
              "      <th>genre_top</th>\n",
              "      <th>genre</th>\n",
              "    </tr>\n",
              "  </thead>\n",
              "  <tbody>\n",
              "    <tr>\n",
              "      <th>2191</th>\n",
              "      <td>13563</td>\n",
              "      <td>/content/drive/MyDrive/Colab Notebooks/Music_model_2/fma_medium/013/013563.mp3</td>\n",
              "      <td>Rock</td>\n",
              "      <td>13</td>\n",
              "    </tr>\n",
              "    <tr>\n",
              "      <th>13730</th>\n",
              "      <td>84538</td>\n",
              "      <td>/content/drive/MyDrive/Colab Notebooks/Music_model_2/fma_medium/084/084538.mp3</td>\n",
              "      <td>Experimental</td>\n",
              "      <td>5</td>\n",
              "    </tr>\n",
              "    <tr>\n",
              "      <th>2674</th>\n",
              "      <td>15964</td>\n",
              "      <td>/content/drive/MyDrive/Colab Notebooks/Music_model_2/fma_medium/015/015964.mp3</td>\n",
              "      <td>Electronic</td>\n",
              "      <td>4</td>\n",
              "    </tr>\n",
              "    <tr>\n",
              "      <th>20518</th>\n",
              "      <td>126625</td>\n",
              "      <td>/content/drive/MyDrive/Colab Notebooks/Music_model_2/fma_medium/126/126625.mp3</td>\n",
              "      <td>Electronic</td>\n",
              "      <td>4</td>\n",
              "    </tr>\n",
              "    <tr>\n",
              "      <th>23020</th>\n",
              "      <td>140005</td>\n",
              "      <td>/content/drive/MyDrive/Colab Notebooks/Music_model_2/fma_medium/140/140005.mp3</td>\n",
              "      <td>Electronic</td>\n",
              "      <td>4</td>\n",
              "    </tr>\n",
              "    <tr>\n",
              "      <th>19085</th>\n",
              "      <td>120314</td>\n",
              "      <td>/content/drive/MyDrive/Colab Notebooks/Music_model_2/fma_medium/120/120314.mp3</td>\n",
              "      <td>Instrumental</td>\n",
              "      <td>8</td>\n",
              "    </tr>\n",
              "    <tr>\n",
              "      <th>18086</th>\n",
              "      <td>114374</td>\n",
              "      <td>/content/drive/MyDrive/Colab Notebooks/Music_model_2/fma_medium/114/114374.mp3</td>\n",
              "      <td>Instrumental</td>\n",
              "      <td>8</td>\n",
              "    </tr>\n",
              "    <tr>\n",
              "      <th>11989</th>\n",
              "      <td>71878</td>\n",
              "      <td>/content/drive/MyDrive/Colab Notebooks/Music_model_2/fma_medium/071/071878.mp3</td>\n",
              "      <td>Instrumental</td>\n",
              "      <td>8</td>\n",
              "    </tr>\n",
              "    <tr>\n",
              "      <th>5403</th>\n",
              "      <td>33220</td>\n",
              "      <td>/content/drive/MyDrive/Colab Notebooks/Music_model_2/fma_medium/033/033220.mp3</td>\n",
              "      <td>Electronic</td>\n",
              "      <td>4</td>\n",
              "    </tr>\n",
              "    <tr>\n",
              "      <th>17780</th>\n",
              "      <td>113165</td>\n",
              "      <td>/content/drive/MyDrive/Colab Notebooks/Music_model_2/fma_medium/113/113165.mp3</td>\n",
              "      <td>Rock</td>\n",
              "      <td>13</td>\n",
              "    </tr>\n",
              "  </tbody>\n",
              "</table>\n",
              "</div>\n",
              "      <button class=\"colab-df-convert\" onclick=\"convertToInteractive('df-6e7e69a7-17f6-416c-894e-3808a03e1a94')\"\n",
              "              title=\"Convert this dataframe to an interactive table.\"\n",
              "              style=\"display:none;\">\n",
              "        \n",
              "  <svg xmlns=\"http://www.w3.org/2000/svg\" height=\"24px\"viewBox=\"0 0 24 24\"\n",
              "       width=\"24px\">\n",
              "    <path d=\"M0 0h24v24H0V0z\" fill=\"none\"/>\n",
              "    <path d=\"M18.56 5.44l.94 2.06.94-2.06 2.06-.94-2.06-.94-.94-2.06-.94 2.06-2.06.94zm-11 1L8.5 8.5l.94-2.06 2.06-.94-2.06-.94L8.5 2.5l-.94 2.06-2.06.94zm10 10l.94 2.06.94-2.06 2.06-.94-2.06-.94-.94-2.06-.94 2.06-2.06.94z\"/><path d=\"M17.41 7.96l-1.37-1.37c-.4-.4-.92-.59-1.43-.59-.52 0-1.04.2-1.43.59L10.3 9.45l-7.72 7.72c-.78.78-.78 2.05 0 2.83L4 21.41c.39.39.9.59 1.41.59.51 0 1.02-.2 1.41-.59l7.78-7.78 2.81-2.81c.8-.78.8-2.07 0-2.86zM5.41 20L4 18.59l7.72-7.72 1.47 1.35L5.41 20z\"/>\n",
              "  </svg>\n",
              "      </button>\n",
              "      \n",
              "  <style>\n",
              "    .colab-df-container {\n",
              "      display:flex;\n",
              "      flex-wrap:wrap;\n",
              "      gap: 12px;\n",
              "    }\n",
              "\n",
              "    .colab-df-convert {\n",
              "      background-color: #E8F0FE;\n",
              "      border: none;\n",
              "      border-radius: 50%;\n",
              "      cursor: pointer;\n",
              "      display: none;\n",
              "      fill: #1967D2;\n",
              "      height: 32px;\n",
              "      padding: 0 0 0 0;\n",
              "      width: 32px;\n",
              "    }\n",
              "\n",
              "    .colab-df-convert:hover {\n",
              "      background-color: #E2EBFA;\n",
              "      box-shadow: 0px 1px 2px rgba(60, 64, 67, 0.3), 0px 1px 3px 1px rgba(60, 64, 67, 0.15);\n",
              "      fill: #174EA6;\n",
              "    }\n",
              "\n",
              "    [theme=dark] .colab-df-convert {\n",
              "      background-color: #3B4455;\n",
              "      fill: #D2E3FC;\n",
              "    }\n",
              "\n",
              "    [theme=dark] .colab-df-convert:hover {\n",
              "      background-color: #434B5C;\n",
              "      box-shadow: 0px 1px 3px 1px rgba(0, 0, 0, 0.15);\n",
              "      filter: drop-shadow(0px 1px 2px rgba(0, 0, 0, 0.3));\n",
              "      fill: #FFFFFF;\n",
              "    }\n",
              "  </style>\n",
              "\n",
              "      <script>\n",
              "        const buttonEl =\n",
              "          document.querySelector('#df-6e7e69a7-17f6-416c-894e-3808a03e1a94 button.colab-df-convert');\n",
              "        buttonEl.style.display =\n",
              "          google.colab.kernel.accessAllowed ? 'block' : 'none';\n",
              "\n",
              "        async function convertToInteractive(key) {\n",
              "          const element = document.querySelector('#df-6e7e69a7-17f6-416c-894e-3808a03e1a94');\n",
              "          const dataTable =\n",
              "            await google.colab.kernel.invokeFunction('convertToInteractive',\n",
              "                                                     [key], {});\n",
              "          if (!dataTable) return;\n",
              "\n",
              "          const docLinkHtml = 'Like what you see? Visit the ' +\n",
              "            '<a target=\"_blank\" href=https://colab.research.google.com/notebooks/data_table.ipynb>data table notebook</a>'\n",
              "            + ' to learn more about interactive tables.';\n",
              "          element.innerHTML = '';\n",
              "          dataTable['output_type'] = 'display_data';\n",
              "          await google.colab.output.renderOutput(dataTable, element);\n",
              "          const docLink = document.createElement('div');\n",
              "          docLink.innerHTML = docLinkHtml;\n",
              "          element.appendChild(docLink);\n",
              "        }\n",
              "      </script>\n",
              "    </div>\n",
              "  </div>\n",
              "  "
            ]
          },
          "metadata": {},
          "execution_count": 11
        }
      ]
    },
    {
      "cell_type": "markdown",
      "source": [
        "For the first training, I selected a much smaller dataset for training. After ensuring everything is fine, we can then train the model with the whole dataset"
      ],
      "metadata": {
        "id": "F3z5sYDEs-Id"
      }
    },
    {
      "cell_type": "code",
      "source": [
        "# Select first 1000 songs for the small dataset\n",
        "sample_df = medium_df.copy()\n",
        "sample_df = sample_df.head(1000).reset_index()\n",
        "sample_df['genre'] = LabelEncoder().fit_transform(sample_df.genre_top.values)\n",
        "sample_df"
      ],
      "metadata": {
        "colab": {
          "base_uri": "https://localhost:8080/",
          "height": 424
        },
        "id": "4rzZs87bYbcL",
        "outputId": "2874ad62-53a2-471f-8792-625b24b028f1"
      },
      "execution_count": 12,
      "outputs": [
        {
          "output_type": "execute_result",
          "data": {
            "text/plain": [
              "     index  track_id  \\\n",
              "0        0         2   \n",
              "1        1         3   \n",
              "2        2         5   \n",
              "3        3        10   \n",
              "4        4       134   \n",
              "..     ...       ...   \n",
              "995    995      6358   \n",
              "996    996      6360   \n",
              "997    997      6363   \n",
              "998    998      6366   \n",
              "999    999      6367   \n",
              "\n",
              "                                                                               path  \\\n",
              "0    /content/drive/MyDrive/Colab Notebooks/Music_model_2/fma_medium/000/000002.mp3   \n",
              "1    /content/drive/MyDrive/Colab Notebooks/Music_model_2/fma_medium/000/000003.mp3   \n",
              "2    /content/drive/MyDrive/Colab Notebooks/Music_model_2/fma_medium/000/000005.mp3   \n",
              "3    /content/drive/MyDrive/Colab Notebooks/Music_model_2/fma_medium/000/000010.mp3   \n",
              "4    /content/drive/MyDrive/Colab Notebooks/Music_model_2/fma_medium/000/000134.mp3   \n",
              "..                                                                              ...   \n",
              "995  /content/drive/MyDrive/Colab Notebooks/Music_model_2/fma_medium/006/006358.mp3   \n",
              "996  /content/drive/MyDrive/Colab Notebooks/Music_model_2/fma_medium/006/006360.mp3   \n",
              "997  /content/drive/MyDrive/Colab Notebooks/Music_model_2/fma_medium/006/006363.mp3   \n",
              "998  /content/drive/MyDrive/Colab Notebooks/Music_model_2/fma_medium/006/006366.mp3   \n",
              "999  /content/drive/MyDrive/Colab Notebooks/Music_model_2/fma_medium/006/006367.mp3   \n",
              "\n",
              "         genre_top  genre  \n",
              "0          Hip-Hop      6  \n",
              "1          Hip-Hop      6  \n",
              "2          Hip-Hop      6  \n",
              "3              Pop     10  \n",
              "4          Hip-Hop      6  \n",
              "..             ...    ...  \n",
              "995  International      7  \n",
              "996  International      7  \n",
              "997  International      7  \n",
              "998  International      7  \n",
              "999  International      7  \n",
              "\n",
              "[1000 rows x 5 columns]"
            ],
            "text/html": [
              "\n",
              "  <div id=\"df-df78122e-63de-496d-b832-a2f34088e5f7\">\n",
              "    <div class=\"colab-df-container\">\n",
              "      <div>\n",
              "<style scoped>\n",
              "    .dataframe tbody tr th:only-of-type {\n",
              "        vertical-align: middle;\n",
              "    }\n",
              "\n",
              "    .dataframe tbody tr th {\n",
              "        vertical-align: top;\n",
              "    }\n",
              "\n",
              "    .dataframe thead th {\n",
              "        text-align: right;\n",
              "    }\n",
              "</style>\n",
              "<table border=\"1\" class=\"dataframe\">\n",
              "  <thead>\n",
              "    <tr style=\"text-align: right;\">\n",
              "      <th></th>\n",
              "      <th>index</th>\n",
              "      <th>track_id</th>\n",
              "      <th>path</th>\n",
              "      <th>genre_top</th>\n",
              "      <th>genre</th>\n",
              "    </tr>\n",
              "  </thead>\n",
              "  <tbody>\n",
              "    <tr>\n",
              "      <th>0</th>\n",
              "      <td>0</td>\n",
              "      <td>2</td>\n",
              "      <td>/content/drive/MyDrive/Colab Notebooks/Music_model_2/fma_medium/000/000002.mp3</td>\n",
              "      <td>Hip-Hop</td>\n",
              "      <td>6</td>\n",
              "    </tr>\n",
              "    <tr>\n",
              "      <th>1</th>\n",
              "      <td>1</td>\n",
              "      <td>3</td>\n",
              "      <td>/content/drive/MyDrive/Colab Notebooks/Music_model_2/fma_medium/000/000003.mp3</td>\n",
              "      <td>Hip-Hop</td>\n",
              "      <td>6</td>\n",
              "    </tr>\n",
              "    <tr>\n",
              "      <th>2</th>\n",
              "      <td>2</td>\n",
              "      <td>5</td>\n",
              "      <td>/content/drive/MyDrive/Colab Notebooks/Music_model_2/fma_medium/000/000005.mp3</td>\n",
              "      <td>Hip-Hop</td>\n",
              "      <td>6</td>\n",
              "    </tr>\n",
              "    <tr>\n",
              "      <th>3</th>\n",
              "      <td>3</td>\n",
              "      <td>10</td>\n",
              "      <td>/content/drive/MyDrive/Colab Notebooks/Music_model_2/fma_medium/000/000010.mp3</td>\n",
              "      <td>Pop</td>\n",
              "      <td>10</td>\n",
              "    </tr>\n",
              "    <tr>\n",
              "      <th>4</th>\n",
              "      <td>4</td>\n",
              "      <td>134</td>\n",
              "      <td>/content/drive/MyDrive/Colab Notebooks/Music_model_2/fma_medium/000/000134.mp3</td>\n",
              "      <td>Hip-Hop</td>\n",
              "      <td>6</td>\n",
              "    </tr>\n",
              "    <tr>\n",
              "      <th>...</th>\n",
              "      <td>...</td>\n",
              "      <td>...</td>\n",
              "      <td>...</td>\n",
              "      <td>...</td>\n",
              "      <td>...</td>\n",
              "    </tr>\n",
              "    <tr>\n",
              "      <th>995</th>\n",
              "      <td>995</td>\n",
              "      <td>6358</td>\n",
              "      <td>/content/drive/MyDrive/Colab Notebooks/Music_model_2/fma_medium/006/006358.mp3</td>\n",
              "      <td>International</td>\n",
              "      <td>7</td>\n",
              "    </tr>\n",
              "    <tr>\n",
              "      <th>996</th>\n",
              "      <td>996</td>\n",
              "      <td>6360</td>\n",
              "      <td>/content/drive/MyDrive/Colab Notebooks/Music_model_2/fma_medium/006/006360.mp3</td>\n",
              "      <td>International</td>\n",
              "      <td>7</td>\n",
              "    </tr>\n",
              "    <tr>\n",
              "      <th>997</th>\n",
              "      <td>997</td>\n",
              "      <td>6363</td>\n",
              "      <td>/content/drive/MyDrive/Colab Notebooks/Music_model_2/fma_medium/006/006363.mp3</td>\n",
              "      <td>International</td>\n",
              "      <td>7</td>\n",
              "    </tr>\n",
              "    <tr>\n",
              "      <th>998</th>\n",
              "      <td>998</td>\n",
              "      <td>6366</td>\n",
              "      <td>/content/drive/MyDrive/Colab Notebooks/Music_model_2/fma_medium/006/006366.mp3</td>\n",
              "      <td>International</td>\n",
              "      <td>7</td>\n",
              "    </tr>\n",
              "    <tr>\n",
              "      <th>999</th>\n",
              "      <td>999</td>\n",
              "      <td>6367</td>\n",
              "      <td>/content/drive/MyDrive/Colab Notebooks/Music_model_2/fma_medium/006/006367.mp3</td>\n",
              "      <td>International</td>\n",
              "      <td>7</td>\n",
              "    </tr>\n",
              "  </tbody>\n",
              "</table>\n",
              "<p>1000 rows × 5 columns</p>\n",
              "</div>\n",
              "      <button class=\"colab-df-convert\" onclick=\"convertToInteractive('df-df78122e-63de-496d-b832-a2f34088e5f7')\"\n",
              "              title=\"Convert this dataframe to an interactive table.\"\n",
              "              style=\"display:none;\">\n",
              "        \n",
              "  <svg xmlns=\"http://www.w3.org/2000/svg\" height=\"24px\"viewBox=\"0 0 24 24\"\n",
              "       width=\"24px\">\n",
              "    <path d=\"M0 0h24v24H0V0z\" fill=\"none\"/>\n",
              "    <path d=\"M18.56 5.44l.94 2.06.94-2.06 2.06-.94-2.06-.94-.94-2.06-.94 2.06-2.06.94zm-11 1L8.5 8.5l.94-2.06 2.06-.94-2.06-.94L8.5 2.5l-.94 2.06-2.06.94zm10 10l.94 2.06.94-2.06 2.06-.94-2.06-.94-.94-2.06-.94 2.06-2.06.94z\"/><path d=\"M17.41 7.96l-1.37-1.37c-.4-.4-.92-.59-1.43-.59-.52 0-1.04.2-1.43.59L10.3 9.45l-7.72 7.72c-.78.78-.78 2.05 0 2.83L4 21.41c.39.39.9.59 1.41.59.51 0 1.02-.2 1.41-.59l7.78-7.78 2.81-2.81c.8-.78.8-2.07 0-2.86zM5.41 20L4 18.59l7.72-7.72 1.47 1.35L5.41 20z\"/>\n",
              "  </svg>\n",
              "      </button>\n",
              "      \n",
              "  <style>\n",
              "    .colab-df-container {\n",
              "      display:flex;\n",
              "      flex-wrap:wrap;\n",
              "      gap: 12px;\n",
              "    }\n",
              "\n",
              "    .colab-df-convert {\n",
              "      background-color: #E8F0FE;\n",
              "      border: none;\n",
              "      border-radius: 50%;\n",
              "      cursor: pointer;\n",
              "      display: none;\n",
              "      fill: #1967D2;\n",
              "      height: 32px;\n",
              "      padding: 0 0 0 0;\n",
              "      width: 32px;\n",
              "    }\n",
              "\n",
              "    .colab-df-convert:hover {\n",
              "      background-color: #E2EBFA;\n",
              "      box-shadow: 0px 1px 2px rgba(60, 64, 67, 0.3), 0px 1px 3px 1px rgba(60, 64, 67, 0.15);\n",
              "      fill: #174EA6;\n",
              "    }\n",
              "\n",
              "    [theme=dark] .colab-df-convert {\n",
              "      background-color: #3B4455;\n",
              "      fill: #D2E3FC;\n",
              "    }\n",
              "\n",
              "    [theme=dark] .colab-df-convert:hover {\n",
              "      background-color: #434B5C;\n",
              "      box-shadow: 0px 1px 3px 1px rgba(0, 0, 0, 0.15);\n",
              "      filter: drop-shadow(0px 1px 2px rgba(0, 0, 0, 0.3));\n",
              "      fill: #FFFFFF;\n",
              "    }\n",
              "  </style>\n",
              "\n",
              "      <script>\n",
              "        const buttonEl =\n",
              "          document.querySelector('#df-df78122e-63de-496d-b832-a2f34088e5f7 button.colab-df-convert');\n",
              "        buttonEl.style.display =\n",
              "          google.colab.kernel.accessAllowed ? 'block' : 'none';\n",
              "\n",
              "        async function convertToInteractive(key) {\n",
              "          const element = document.querySelector('#df-df78122e-63de-496d-b832-a2f34088e5f7');\n",
              "          const dataTable =\n",
              "            await google.colab.kernel.invokeFunction('convertToInteractive',\n",
              "                                                     [key], {});\n",
              "          if (!dataTable) return;\n",
              "\n",
              "          const docLinkHtml = 'Like what you see? Visit the ' +\n",
              "            '<a target=\"_blank\" href=https://colab.research.google.com/notebooks/data_table.ipynb>data table notebook</a>'\n",
              "            + ' to learn more about interactive tables.';\n",
              "          element.innerHTML = '';\n",
              "          dataTable['output_type'] = 'display_data';\n",
              "          await google.colab.output.renderOutput(dataTable, element);\n",
              "          const docLink = document.createElement('div');\n",
              "          docLink.innerHTML = docLinkHtml;\n",
              "          element.appendChild(docLink);\n",
              "        }\n",
              "      </script>\n",
              "    </div>\n",
              "  </div>\n",
              "  "
            ]
          },
          "metadata": {},
          "execution_count": 12
        }
      ]
    },
    {
      "cell_type": "markdown",
      "source": [
        "# 4. Data Augmentation\n",
        "\n",
        "We will now set up some configs for training, and we will cut our songs to 25s, since most of the songs are not 30s long."
      ],
      "metadata": {
        "id": "Jb6h4JBUbosa"
      }
    },
    {
      "cell_type": "code",
      "source": [
        "cfg = AudioConfig.BasicMelSpectrogram(n_fft=512)\n",
        "crop1s = ResizeSignal(25000)\n",
        "a2s = AudioToSpec.from_cfg(cfg)"
      ],
      "metadata": {
        "colab": {
          "base_uri": "https://localhost:8080/"
        },
        "id": "9OkhaMWbGzEU",
        "outputId": "0182df7b-1d72-434c-e47e-a828cfe43224"
      },
      "execution_count": 13,
      "outputs": [
        {
          "output_type": "stream",
          "name": "stderr",
          "text": [
            "/usr/local/lib/python3.7/dist-packages/torchaudio/functional/functional.py:358: UserWarning: At least one mel filterbank has all zero values. The value for `n_mels` (128) may be set too high. Or, the value for `n_freqs` (257) may be set too low.\n",
            "  \"At least one mel filterbank has all zero values. \"\n"
          ]
        }
      ]
    },
    {
      "cell_type": "markdown",
      "source": [
        "# 5. Model Training\n",
        "\n",
        "Given the GPU limit of the colab notebook, we will separate the training epochs. We will save the previous models trained, and load them back and train them in separate times.\n",
        "\n",
        "Here I use a pretrained model Resnet18 for transfer learning, I will make some fine-tune on it during the training."
      ],
      "metadata": {
        "id": "V_gOIqsqcKfr"
      }
    },
    {
      "cell_type": "code",
      "source": [
        "auds = DataBlock(blocks = (AudioBlock, CategoryBlock),  \n",
        "                 get_x = ColReader(\"path\"),\n",
        "                 splitter = RandomSplitter(),\n",
        "                 item_tfms = [crop1s],\n",
        "                 batch_tfms = [a2s],\n",
        "                 get_y = ColReader(\"genre\"))"
      ],
      "metadata": {
        "id": "fyLv421JG1jM"
      },
      "execution_count": 14,
      "outputs": []
    },
    {
      "cell_type": "code",
      "source": [
        "dbunch = auds.dataloaders(medium_df, bs=64)"
      ],
      "metadata": {
        "id": "6PlvVsBcG5qi"
      },
      "execution_count": 15,
      "outputs": []
    },
    {
      "cell_type": "code",
      "source": [
        "#Setting up callbacks\n",
        "early_stopping_callback = EarlyStoppingCallback(min_delta=0.01, patience=1)\n",
        "save_model_callback = SaveModelCallback(every_epoch=True, with_opt=True)\n",
        "reduce_lr = ReduceLROnPlateau(min_delta=0.01, patience=1, factor=10.0, min_lr=1e-7) \n",
        "cbs = [early_stopping_callback, save_model_callback, reduce_lr]"
      ],
      "metadata": {
        "id": "waiaPCfQBBfM"
      },
      "execution_count": 16,
      "outputs": []
    },
    {
      "cell_type": "code",
      "source": [
        "learn = cnn_learner(dbunch, \n",
        "            resnet18,\n",
        "            n_in=1,  # <- This is the only audio specific modification here\n",
        "            loss_func=CrossEntropyLossFlat(),\n",
        "            cbs = cbs,\n",
        "            metrics=[accuracy])"
      ],
      "metadata": {
        "id": "Zvj9FJRlHVi9",
        "colab": {
          "base_uri": "https://localhost:8080/",
          "height": 66,
          "referenced_widgets": [
            "d67b3c850089459888ec0a8632e04113",
            "80b0ce160553488da572705ed28539a5",
            "70f54d1674914595bdce5cdd6f03f0bb",
            "a62beb5782c34d83aa9d65d4be115901",
            "ca4522aae4a24c758b0370478aa56fee",
            "7a430cf602d442c2ab3e5d5857033984",
            "47e63ad817534be091fdad0e19bdf508",
            "60e3b6049291474ba2106b4ee64ff077",
            "d412442bd0e64de281f0877ffc28ae8c",
            "305fefdddcad4486b4b0b1fb343bc183",
            "c88fc6d856a747cd92f21ddfdbcfb796"
          ]
        },
        "outputId": "6c37e70e-169f-4e6f-a37a-050c11a39f43"
      },
      "execution_count": 17,
      "outputs": [
        {
          "output_type": "stream",
          "name": "stderr",
          "text": [
            "Downloading: \"https://download.pytorch.org/models/resnet18-5c106cde.pth\" to /root/.cache/torch/hub/checkpoints/resnet18-5c106cde.pth\n"
          ]
        },
        {
          "output_type": "display_data",
          "data": {
            "text/plain": [
              "  0%|          | 0.00/44.7M [00:00<?, ?B/s]"
            ],
            "application/vnd.jupyter.widget-view+json": {
              "version_major": 2,
              "version_minor": 0,
              "model_id": "d67b3c850089459888ec0a8632e04113"
            }
          },
          "metadata": {}
        }
      ]
    },
    {
      "cell_type": "code",
      "source": [
        "learn.lr_find()"
      ],
      "metadata": {
        "colab": {
          "base_uri": "https://localhost:8080/",
          "height": 355
        },
        "id": "-DFwozgGO_GX",
        "outputId": "e83836b4-3161-424f-d6dd-2299713db691"
      },
      "execution_count": null,
      "outputs": [
        {
          "output_type": "display_data",
          "data": {
            "text/html": [
              ""
            ],
            "text/plain": [
              "<IPython.core.display.HTML object>"
            ]
          },
          "metadata": {}
        },
        {
          "output_type": "execute_result",
          "data": {
            "text/plain": [
              "SuggestedLRs(lr_min=0.014454397559165954, lr_steep=0.001737800776027143)"
            ]
          },
          "metadata": {},
          "execution_count": 35
        },
        {
          "output_type": "display_data",
          "data": {
            "image/png": "[encoded data removed]",
            "text/plain": [
              "<Figure size 1224x360 with 1 Axes>"
            ]
          },
          "metadata": {
            "needs_background": "light"
          }
        }
      ]
    },
    {
      "cell_type": "markdown",
      "source": [
        "Since the `lr_steep` is 0.0017, we'll set our learning rate to 0.002"
      ],
      "metadata": {
        "id": "HzEJX_2nhKRG"
      }
    },
    {
      "cell_type": "markdown",
      "source": [
        "Given the GPU usage limit by Google colab, we have to train the model separately in a few times. In the following, we have a function to train the model and save it for future training"
      ],
      "metadata": {
        "id": "0nVBza__jIsW"
      }
    },
    {
      "cell_type": "code",
      "source": [
        "def train_learner(num_epochs, lr=0.002, retrain_model=False):\n",
        "  pre_trained_model_path = '/content/drive/MyDrive/Colab Notebooks/Music_model_2/trained_learn'\n",
        "  if retrain_model:\n",
        "    global learn\n",
        "    learn = learn.load(pre_trained_model_path)\n",
        "  learn.fine_tune(num_epochs, lr)\n",
        "  learn.save(pre_trained_model_path)\n"
      ],
      "metadata": {
        "id": "-3Y3ZPy6HpkL"
      },
      "execution_count": null,
      "outputs": []
    },
    {
      "cell_type": "markdown",
      "source": [
        "**1st and 2nd epoch of training**"
      ],
      "metadata": {
        "id": "_B2-yQghkkA8"
      }
    },
    {
      "cell_type": "code",
      "source": [
        "train_learner(num_epochs=1)"
      ],
      "metadata": {
        "id": "Y0FuqYncGRRb",
        "colab": {
          "base_uri": "https://localhost:8080/",
          "height": 223
        },
        "outputId": "2f1c83a6-1de3-481c-ea40-4b8a3119e171"
      },
      "execution_count": null,
      "outputs": [
        {
          "data": {
            "text/html": [
              "\n",
              "<style>\n",
              "    /* Turns off some styling */\n",
              "    progress {\n",
              "        /* gets rid of default border in Firefox and Opera. */\n",
              "        border: none;\n",
              "        /* Needs to be in here for Safari polyfill so background images work as expected. */\n",
              "        background-size: auto;\n",
              "    }\n",
              "    .progress-bar-interrupted, .progress-bar-interrupted::-webkit-progress-bar {\n",
              "        background: #F44336;\n",
              "    }\n",
              "</style>\n"
            ],
            "text/plain": [
              "<IPython.core.display.HTML object>"
            ]
          },
          "metadata": {},
          "output_type": "display_data"
        },
        {
          "data": {
            "text/html": [
              "<table border=\"1\" class=\"dataframe\">\n",
              "  <thead>\n",
              "    <tr style=\"text-align: left;\">\n",
              "      <th>epoch</th>\n",
              "      <th>train_loss</th>\n",
              "      <th>valid_loss</th>\n",
              "      <th>accuracy</th>\n",
              "      <th>time</th>\n",
              "    </tr>\n",
              "  </thead>\n",
              "  <tbody>\n",
              "    <tr>\n",
              "      <td>0</td>\n",
              "      <td>1.702061</td>\n",
              "      <td>1.319106</td>\n",
              "      <td>0.625976</td>\n",
              "      <td>1:48:10</td>\n",
              "    </tr>\n",
              "  </tbody>\n",
              "</table>"
            ],
            "text/plain": [
              "<IPython.core.display.HTML object>"
            ]
          },
          "metadata": {},
          "output_type": "display_data"
        },
        {
          "data": {
            "text/html": [
              "\n",
              "<style>\n",
              "    /* Turns off some styling */\n",
              "    progress {\n",
              "        /* gets rid of default border in Firefox and Opera. */\n",
              "        border: none;\n",
              "        /* Needs to be in here for Safari polyfill so background images work as expected. */\n",
              "        background-size: auto;\n",
              "    }\n",
              "    .progress-bar-interrupted, .progress-bar-interrupted::-webkit-progress-bar {\n",
              "        background: #F44336;\n",
              "    }\n",
              "</style>\n"
            ],
            "text/plain": [
              "<IPython.core.display.HTML object>"
            ]
          },
          "metadata": {},
          "output_type": "display_data"
        },
        {
          "data": {
            "text/html": [
              "\n",
              "    <div>\n",
              "      <progress value='0' class='' max='1' style='width:300px; height:20px; vertical-align: middle;'></progress>\n",
              "      0.00% [0/1 00:00<00:00]\n",
              "    </div>\n",
              "    \n",
              "<table border=\"1\" class=\"dataframe\">\n",
              "  <thead>\n",
              "    <tr style=\"text-align: left;\">\n",
              "      <th>epoch</th>\n",
              "      <th>train_loss</th>\n",
              "      <th>valid_loss</th>\n",
              "      <th>accuracy</th>\n",
              "      <th>time</th>\n",
              "    </tr>\n",
              "  </thead>\n",
              "  <tbody>\n",
              "  </tbody>\n",
              "</table><p>\n",
              "\n",
              "    <div>\n",
              "      <progress value='68' class='' max='312' style='width:300px; height:20px; vertical-align: middle;'></progress>\n",
              "      21.79% [68/312 18:33<1:06:36 1.4438]\n",
              "    </div>\n",
              "    "
            ],
            "text/plain": [
              "<IPython.core.display.HTML object>"
            ]
          },
          "metadata": {},
          "output_type": "display_data"
        },
        {
          "output_type": "display_data",
          "data": {
            "text/plain": [
              "<IPython.core.display.HTML object>"
            ],
            "text/html": [
              "<table border=\"1\" class=\"dataframe\">\n",
              "  <thead>\n",
              "    <tr style=\"text-align: left;\">\n",
              "      <th>epoch</th>\n",
              "      <th>train_loss</th>\n",
              "      <th>valid_loss</th>\n",
              "      <th>accuracy</th>\n",
              "      <th>time</th>\n",
              "    </tr>\n",
              "  </thead>\n",
              "  <tbody>\n",
              "    <tr>\n",
              "      <td>0</td>\n",
              "      <td>1.175624</td>\n",
              "      <td>1.072660</td>\n",
              "      <td>0.677406</td>\n",
              "      <td>1:46:54</td>\n",
              "    </tr>\n",
              "  </tbody>\n",
              "</table>"
            ]
          },
          "metadata": {}
        }
      ]
    },
    {
      "cell_type": "markdown",
      "source": [
        "**3rd and 4th epoch of training**"
      ],
      "metadata": {
        "id": "jd1AEWF_kqgH"
      }
    },
    {
      "cell_type": "code",
      "source": [
        "train_learner(num_epochs=1, retrain_model=True)"
      ],
      "metadata": {
        "colab": {
          "base_uri": "https://localhost:8080/",
          "height": 144
        },
        "id": "SM8OzzDFZfbu",
        "outputId": "30ada0bb-3728-4947-e673-5a4cb450e6f0"
      },
      "execution_count": null,
      "outputs": [
        {
          "output_type": "display_data",
          "data": {
            "text/plain": [
              "<IPython.core.display.HTML object>"
            ],
            "text/html": [
              "\n",
              "<style>\n",
              "    /* Turns off some styling */\n",
              "    progress {\n",
              "        /* gets rid of default border in Firefox and Opera. */\n",
              "        border: none;\n",
              "        /* Needs to be in here for Safari polyfill so background images work as expected. */\n",
              "        background-size: auto;\n",
              "    }\n",
              "    .progress-bar-interrupted, .progress-bar-interrupted::-webkit-progress-bar {\n",
              "        background: #F44336;\n",
              "    }\n",
              "</style>\n"
            ]
          },
          "metadata": {}
        },
        {
          "output_type": "display_data",
          "data": {
            "text/plain": [
              "<IPython.core.display.HTML object>"
            ],
            "text/html": [
              "<table border=\"1\" class=\"dataframe\">\n",
              "  <thead>\n",
              "    <tr style=\"text-align: left;\">\n",
              "      <th>epoch</th>\n",
              "      <th>train_loss</th>\n",
              "      <th>valid_loss</th>\n",
              "      <th>accuracy</th>\n",
              "      <th>time</th>\n",
              "    </tr>\n",
              "  </thead>\n",
              "  <tbody>\n",
              "    <tr>\n",
              "      <td>0</td>\n",
              "      <td>1.118485</td>\n",
              "      <td>1.015314</td>\n",
              "      <td>0.691215</td>\n",
              "      <td>1:56:56</td>\n",
              "    </tr>\n",
              "  </tbody>\n",
              "</table>"
            ]
          },
          "metadata": {}
        },
        {
          "output_type": "display_data",
          "data": {
            "text/plain": [
              "<IPython.core.display.HTML object>"
            ],
            "text/html": [
              "\n",
              "<style>\n",
              "    /* Turns off some styling */\n",
              "    progress {\n",
              "        /* gets rid of default border in Firefox and Opera. */\n",
              "        border: none;\n",
              "        /* Needs to be in here for Safari polyfill so background images work as expected. */\n",
              "        background-size: auto;\n",
              "    }\n",
              "    .progress-bar-interrupted, .progress-bar-interrupted::-webkit-progress-bar {\n",
              "        background: #F44336;\n",
              "    }\n",
              "</style>\n"
            ]
          },
          "metadata": {}
        },
        {
          "output_type": "display_data",
          "data": {
            "text/plain": [
              "<IPython.core.display.HTML object>"
            ],
            "text/html": [
              "<table border=\"1\" class=\"dataframe\">\n",
              "  <thead>\n",
              "    <tr style=\"text-align: left;\">\n",
              "      <th>epoch</th>\n",
              "      <th>train_loss</th>\n",
              "      <th>valid_loss</th>\n",
              "      <th>accuracy</th>\n",
              "      <th>time</th>\n",
              "    </tr>\n",
              "  </thead>\n",
              "  <tbody>\n",
              "    <tr>\n",
              "      <td>0</td>\n",
              "      <td>1.027204</td>\n",
              "      <td>0.944274</td>\n",
              "      <td>0.709626</td>\n",
              "      <td>1:58:00</td>\n",
              "    </tr>\n",
              "  </tbody>\n",
              "</table>"
            ]
          },
          "metadata": {}
        }
      ]
    },
    {
      "cell_type": "markdown",
      "source": [
        "**5th and 6th epoch of training**\n",
        "Given the reducing loss decrease, in the 5th epoch, I reduce the learning rate to 1e-7.\n",
        "For the 6th epoch, the loss kept increasing, for the sake of time and the connection loss in colab, I stopped the training."
      ],
      "metadata": {
        "id": "SV3PEdYwktlJ"
      }
    },
    {
      "cell_type": "code",
      "source": [
        "train_learner(num_epochs=1, lr=1e-7, retrain_model=True)"
      ],
      "metadata": {
        "colab": {
          "base_uri": "https://localhost:8080/",
          "height": 237
        },
        "id": "yH_NOwGatf_6",
        "outputId": "1c0640ec-c682-44b4-b978-117e5d0b0308"
      },
      "execution_count": null,
      "outputs": [
        {
          "data": {
            "text/html": [
              "\n",
              "<style>\n",
              "    /* Turns off some styling */\n",
              "    progress {\n",
              "        /* gets rid of default border in Firefox and Opera. */\n",
              "        border: none;\n",
              "        /* Needs to be in here for Safari polyfill so background images work as expected. */\n",
              "        background-size: auto;\n",
              "    }\n",
              "    .progress-bar-interrupted, .progress-bar-interrupted::-webkit-progress-bar {\n",
              "        background: #F44336;\n",
              "    }\n",
              "</style>\n"
            ],
            "text/plain": [
              "<IPython.core.display.HTML object>"
            ]
          },
          "metadata": {},
          "output_type": "display_data"
        },
        {
          "data": {
            "text/html": [
              "\n",
              "    <div>\n",
              "      <progress value='0' class='' max='1' style='width:300px; height:20px; vertical-align: middle;'></progress>\n",
              "      0.00% [0/1 00:00<00:00]\n",
              "    </div>\n",
              "    \n",
              "<table border=\"1\" class=\"dataframe\">\n",
              "  <thead>\n",
              "    <tr style=\"text-align: left;\">\n",
              "      <th>epoch</th>\n",
              "      <th>train_loss</th>\n",
              "      <th>valid_loss</th>\n",
              "      <th>accuracy</th>\n",
              "      <th>time</th>\n",
              "    </tr>\n",
              "  </thead>\n",
              "  <tbody>\n",
              "  </tbody>\n",
              "</table><p>\n",
              "\n",
              "    <div>\n",
              "      <progress value='212' class='' max='312' style='width:300px; height:20px; vertical-align: middle;'></progress>\n",
              "      67.95% [212/312 1:23:37<39:26 0.9787]\n",
              "    </div>\n",
              "    "
            ],
            "text/plain": [
              "<IPython.core.display.HTML object>"
            ]
          },
          "metadata": {},
          "output_type": "display_data"
        },
        {
          "output_type": "display_data",
          "data": {
            "text/plain": [
              "<IPython.core.display.HTML object>"
            ],
            "text/html": [
              "<table border=\"1\" class=\"dataframe\">\n",
              "  <thead>\n",
              "    <tr style=\"text-align: left;\">\n",
              "      <th>epoch</th>\n",
              "      <th>train_loss</th>\n",
              "      <th>valid_loss</th>\n",
              "      <th>accuracy</th>\n",
              "      <th>time</th>\n",
              "    </tr>\n",
              "  </thead>\n",
              "  <tbody>\n",
              "    <tr>\n",
              "      <td>0</td>\n",
              "      <td>0.946788</td>\n",
              "      <td>0.837109</td>\n",
              "      <td>0.737643</td>\n",
              "      <td>2:37:15</td>\n",
              "    </tr>\n",
              "  </tbody>\n",
              "</table>"
            ]
          },
          "metadata": {}
        },
        {
          "output_type": "display_data",
          "data": {
            "text/plain": [
              "<IPython.core.display.HTML object>"
            ],
            "text/html": [
              "\n",
              "<style>\n",
              "    /* Turns off some styling */\n",
              "    progress {\n",
              "        /* gets rid of default border in Firefox and Opera. */\n",
              "        border: none;\n",
              "        /* Needs to be in here for Safari polyfill so background images work as expected. */\n",
              "        background-size: auto;\n",
              "    }\n",
              "    .progress-bar-interrupted, .progress-bar-interrupted::-webkit-progress-bar {\n",
              "        background: #F44336;\n",
              "    }\n",
              "</style>\n"
            ]
          },
          "metadata": {}
        },
        {
          "output_type": "display_data",
          "data": {
            "text/plain": [
              "<IPython.core.display.HTML object>"
            ],
            "text/html": [
              "\n",
              "    <div>\n",
              "      <progress value='0' class='' max='1' style='width:300px; height:20px; vertical-align: middle;'></progress>\n",
              "      0.00% [0/1 00:00<00:00]\n",
              "    </div>\n",
              "    \n",
              "<table border=\"1\" class=\"dataframe\">\n",
              "  <thead>\n",
              "    <tr style=\"text-align: left;\">\n",
              "      <th>epoch</th>\n",
              "      <th>train_loss</th>\n",
              "      <th>valid_loss</th>\n",
              "      <th>accuracy</th>\n",
              "      <th>time</th>\n",
              "    </tr>\n",
              "  </thead>\n",
              "  <tbody>\n",
              "  </tbody>\n",
              "</table><p>\n",
              "\n",
              "    <div>\n",
              "      <progress value='122' class='' max='312' style='width:300px; height:20px; vertical-align: middle;'></progress>\n",
              "      39.10% [122/312 40:11<1:02:34 0.9606]\n",
              "    </div>\n",
              "    "
            ]
          },
          "metadata": {}
        }
      ]
    },
    {
      "cell_type": "markdown",
      "source": [
        "# 6. Result Evaluation"
      ],
      "metadata": {
        "id": "4VTb_3OVjuzt"
      }
    },
    {
      "cell_type": "code",
      "source": [
        "pre_trained_model_path = '/content/drive/MyDrive/Colab Notebooks/Music_model_2/model_0'\n",
        "learn = learn.load(pre_trained_model_path)"
      ],
      "metadata": {
        "id": "GM_aOrkOjuOe"
      },
      "execution_count": 18,
      "outputs": []
    },
    {
      "cell_type": "code",
      "source": [
        "preds, target = learn.get_preds()"
      ],
      "metadata": {
        "colab": {
          "base_uri": "https://localhost:8080/",
          "height": 17
        },
        "id": "jA9-X-pIkUxG",
        "outputId": "66018c6f-8377-4b08-f518-1fa4f9e041ef"
      },
      "execution_count": null,
      "outputs": [
        {
          "output_type": "display_data",
          "data": {
            "text/plain": [
              "<IPython.core.display.HTML object>"
            ],
            "text/html": [
              "\n",
              "<style>\n",
              "    /* Turns off some styling */\n",
              "    progress {\n",
              "        /* gets rid of default border in Firefox and Opera. */\n",
              "        border: none;\n",
              "        /* Needs to be in here for Safari polyfill so background images work as expected. */\n",
              "        background-size: auto;\n",
              "    }\n",
              "    .progress-bar-interrupted, .progress-bar-interrupted::-webkit-progress-bar {\n",
              "        background: #F44336;\n",
              "    }\n",
              "</style>\n"
            ]
          },
          "metadata": {}
        },
        {
          "output_type": "display_data",
          "data": {
            "text/plain": [
              "<IPython.core.display.HTML object>"
            ],
            "text/html": [
              ""
            ]
          },
          "metadata": {}
        }
      ]
    },
    {
      "cell_type": "code",
      "source": [
        "y_preds = np.argmax(preds, axis=-1)"
      ],
      "metadata": {
        "id": "Jm-jkOMPxJzu"
      },
      "execution_count": null,
      "outputs": []
    },
    {
      "cell_type": "code",
      "source": [
        "print('Accuracy: ', accuracy_score(target, y_preds))\n",
        "print(classification_report(target, y_preds, target_names=class_list))"
      ],
      "metadata": {
        "colab": {
          "base_uri": "https://localhost:8080/"
        },
        "id": "UCoAhcN-vhq-",
        "outputId": "715f1568-9bcc-45ae-8396-16c8e43076be"
      },
      "execution_count": null,
      "outputs": [
        {
          "output_type": "stream",
          "name": "stdout",
          "text": [
            "Accuracy:  0.729037422453472\n",
            "                     precision    recall  f1-score   support\n",
            "\n",
            "              Blues       0.00      0.00      0.00        19\n",
            "          Classical       0.78      0.81      0.80       126\n",
            "            Country       0.17      0.02      0.04        41\n",
            "     Easy Listening       0.00      0.00      0.00         4\n",
            "         Electronic       0.73      0.87      0.79      1297\n",
            "       Experimental       0.61      0.55      0.58       422\n",
            "               Folk       0.62      0.74      0.67       299\n",
            "            Hip-Hop       0.84      0.76      0.79       413\n",
            "       Instrumental       0.54      0.40      0.46       273\n",
            "      International       0.66      0.61      0.63       199\n",
            "               Jazz       0.56      0.46      0.51        69\n",
            "Old-Time / Historic       0.99      0.99      0.99       114\n",
            "                Pop       0.50      0.09      0.15       252\n",
            "               Rock       0.79      0.87      0.83      1413\n",
            "           Soul-RnB       0.50      0.09      0.15        33\n",
            "             Spoken       0.71      0.52      0.60        23\n",
            "\n",
            "           accuracy                           0.73      4997\n",
            "          macro avg       0.56      0.49      0.50      4997\n",
            "       weighted avg       0.71      0.73      0.71      4997\n",
            "\n"
          ]
        },
        {
          "output_type": "stream",
          "name": "stderr",
          "text": [
            "/usr/local/lib/python3.7/dist-packages/sklearn/metrics/_classification.py:1318: UndefinedMetricWarning: Precision and F-score are ill-defined and being set to 0.0 in labels with no predicted samples. Use `zero_division` parameter to control this behavior.\n",
            "  _warn_prf(average, modifier, msg_start, len(result))\n",
            "/usr/local/lib/python3.7/dist-packages/sklearn/metrics/_classification.py:1318: UndefinedMetricWarning: Precision and F-score are ill-defined and being set to 0.0 in labels with no predicted samples. Use `zero_division` parameter to control this behavior.\n",
            "  _warn_prf(average, modifier, msg_start, len(result))\n",
            "/usr/local/lib/python3.7/dist-packages/sklearn/metrics/_classification.py:1318: UndefinedMetricWarning: Precision and F-score are ill-defined and being set to 0.0 in labels with no predicted samples. Use `zero_division` parameter to control this behavior.\n",
            "  _warn_prf(average, modifier, msg_start, len(result))\n"
          ]
        }
      ]
    },
    {
      "cell_type": "code",
      "source": [
        "ConfusionMatrixDisplay.from_predictions(target, y_preds, display_labels=list(class_list),xticks_rotation='vertical')"
      ],
      "metadata": {
        "colab": {
          "base_uri": "https://localhost:8080/",
          "height": 1000
        },
        "id": "l2wq-lPrygtK",
        "outputId": "e29410d6-f1a6-45c2-f321-905123b4683b"
      },
      "execution_count": null,
      "outputs": [
        {
          "output_type": "execute_result",
          "data": {
            "text/plain": [
              "<sklearn.metrics._plot.confusion_matrix.ConfusionMatrixDisplay at 0x7fd7ce9be590>"
            ]
          },
          "metadata": {},
          "execution_count": 59
        },
        {
          "output_type": "display_data",
          "data": {
            "text/plain": [
              "<Figure size 1440x1440 with 2 Axes>"
            ],
            "image/png": "[encoded data removed]"
          },
          "metadata": {
            "needs_background": "light"
          }
        }
      ]
    },
    {
      "cell_type": "markdown",
      "source": [
        "From the above, we may see that the model has a fair overall accuracy of 73%, and did a pretty good job in classifying rock, electronic, and hip hop music. However, some of the genres are pretty hard for the model to learn. \n",
        "This may be due to the quality of the data.\n",
        "According to the previous training done by the others (https://nbviewer.org/github/mdeff/fma/blob/outputs/baselines.ipynb),\n",
        "the base line is 17.6%, which means this model always performs very well."
      ],
      "metadata": {
        "id": "Z8coxhDx1YTP"
      }
    },
    {
      "cell_type": "markdown",
      "source": [
        "Export learner for predicting new data"
      ],
      "metadata": {
        "id": "x_bMljCgYbZl"
      }
    },
    {
      "cell_type": "code",
      "source": [
        "learn.export(fname='/content/drive/MyDrive/Colab Notebooks/Music_model_2/learner.pkl')"
      ],
      "metadata": {
        "id": "0PdsyPvEVdPE"
      },
      "execution_count": 19,
      "outputs": []
    }
  ]
}